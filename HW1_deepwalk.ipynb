{
 "cells": [
  {
   "cell_type": "markdown",
   "metadata": {
    "id": "9l2xo8YQ2cjY",
    "pycharm": {
     "name": "#%% md\n"
    }
   },
   "source": [
    "# 第一次作业\n",
    "\n",
    "本次作业我们将实现经典的deepwalk算法，主要包含以下几部分内容：\n",
    "* deepwalk的随机游走部分需要大家来完成；\n",
    "* 模型部分我们借助gensim提供的Word2Vec包来实现；\n",
    "* 调用CogDL来获取Cora这个节点分类数据集；\n",
    "* 使用线性分类器对deepwalk学到的向量进行评估。\n",
    "\n",
    "本作业需要安装[CogDL](https://github.com/THUDM/cogdl)：pip install cogdl\n",
    "\n",
    "如需使用gpu版，请先安装gpu版本的[PyTorch](https://pytorch.org/get-started/locally/)，再安装cogdl。\n",
    "\n",
    "本作业由智谱GNN中心及课程团队筹备，由CogDL团队提供技术支持。"
   ]
  },
  {
   "cell_type": "markdown",
   "metadata": {
    "id": "naC11Hqm_BNR",
    "pycharm": {
     "name": "#%% md\n"
    }
   },
   "source": [
    "## 0. 安装CogDL"
   ]
  },
  {
   "cell_type": "code",
   "execution_count": 1,
   "metadata": {
    "id": "lPasG5Fy-_Q0",
    "pycharm": {
     "name": "#%%\n"
    }
   },
   "outputs": [
    {
     "name": "stdout",
     "output_type": "stream",
     "text": [
      "Collecting cogdl\r\n",
      "  Downloading cogdl-0.5.3-py3-none-any.whl (337 kB)\r\n",
      "\u001B[2K     \u001B[90m━━━━━━━━━━━━━━━━━━━━━━━━━━━━━━━━━━━━━━━\u001B[0m \u001B[32m337.1/337.1 kB\u001B[0m \u001B[31m2.5 MB/s\u001B[0m eta \u001B[36m0:00:00\u001B[0ma \u001B[36m0:00:01\u001B[0m\r\n",
      "\u001B[?25hCollecting grave\r\n",
      "  Downloading grave-0.0.3-py3-none-any.whl (15 kB)\r\n",
      "Collecting flake8\r\n",
      "  Downloading flake8-5.0.4-py2.py3-none-any.whl (61 kB)\r\n",
      "\u001B[2K     \u001B[90m━━━━━━━━━━━━━━━━━━━━━━━━━━━━━━━━━━━━━━━\u001B[0m \u001B[32m61.9/61.9 kB\u001B[0m \u001B[31m821.2 kB/s\u001B[0m eta \u001B[36m0:00:00\u001B[0m0:01\u001B[0m0m\r\n",
      "\u001B[?25hRequirement already satisfied: scikit-learn in /Users/wyt/opt/miniconda3/lib/python3.9/site-packages (from cogdl) (1.0.2)\r\n",
      "Requirement already satisfied: numba in /Users/wyt/opt/miniconda3/lib/python3.9/site-packages (from cogdl) (0.55.1)\r\n",
      "Collecting ninja\r\n",
      "  Downloading ninja-1.10.2.4-py2.py3-none-macosx_10_9_universal2.macosx_10_9_x86_64.macosx_11_0_arm64.macosx_11_0_universal2.whl (231 kB)\r\n",
      "\u001B[2K     \u001B[90m━━━━━━━━━━━━━━━━━━━━━━━━━━━━━━━━━━━━━━━\u001B[0m \u001B[32m231.5/231.5 kB\u001B[0m \u001B[31m3.0 MB/s\u001B[0m eta \u001B[36m0:00:00\u001B[0ma \u001B[36m0:00:01\u001B[0m\r\n",
      "\u001B[?25hRequirement already satisfied: transformers in /Users/wyt/opt/miniconda3/lib/python3.9/site-packages (from cogdl) (4.18.0)\r\n",
      "Collecting sentencepiece\r\n",
      "  Downloading sentencepiece-0.1.97-cp39-cp39-macosx_11_0_arm64.whl (1.1 MB)\r\n",
      "\u001B[2K     \u001B[90m━━━━━━━━━━━━━━━━━━━━━━━━━━━━━━━━━━━━━━━━\u001B[0m \u001B[32m1.1/1.1 MB\u001B[0m \u001B[31m5.1 MB/s\u001B[0m eta \u001B[36m0:00:00\u001B[0m00:01\u001B[0m00:01\u001B[0m\r\n",
      "\u001B[?25hRequirement already satisfied: scipy in /Users/wyt/opt/miniconda3/lib/python3.9/site-packages (from cogdl) (1.7.3)\r\n",
      "Requirement already satisfied: numpy>=1.21 in /Users/wyt/opt/miniconda3/lib/python3.9/site-packages (from cogdl) (1.21.5)\r\n",
      "Collecting networkx\r\n",
      "  Downloading networkx-2.8.7-py3-none-any.whl (2.0 MB)\r\n",
      "\u001B[2K     \u001B[90m━━━━━━━━━━━━━━━━━━━━━━━━━━━━━━━━━━━━━━━━\u001B[0m \u001B[32m2.0/2.0 MB\u001B[0m \u001B[31m7.1 MB/s\u001B[0m eta \u001B[36m0:00:00\u001B[0ma \u001B[36m0:00:01\u001B[0m\r\n",
      "\u001B[?25hCollecting ogb\r\n",
      "  Downloading ogb-1.3.4-py3-none-any.whl (78 kB)\r\n",
      "\u001B[2K     \u001B[90m━━━━━━━━━━━━━━━━━━━━━━━━━━━━━━━━━━━━━━━━\u001B[0m \u001B[32m78.6/78.6 kB\u001B[0m \u001B[31m2.9 MB/s\u001B[0m eta \u001B[36m0:00:00\u001B[0m\r\n",
      "\u001B[?25hRequirement already satisfied: tqdm in /Users/wyt/opt/miniconda3/lib/python3.9/site-packages (from cogdl) (4.64.0)\r\n",
      "Collecting tabulate\r\n",
      "  Downloading tabulate-0.9.0-py3-none-any.whl (35 kB)\r\n",
      "Collecting pre-commit\r\n",
      "  Downloading pre_commit-2.20.0-py2.py3-none-any.whl (199 kB)\r\n",
      "\u001B[2K     \u001B[90m━━━━━━━━━━━━━━━━━━━━━━━━━━━━━━━━━━━━━━━\u001B[0m \u001B[32m199.5/199.5 kB\u001B[0m \u001B[31m5.4 MB/s\u001B[0m eta \u001B[36m0:00:00\u001B[0m\r\n",
      "\u001B[?25hRequirement already satisfied: matplotlib in /Users/wyt/opt/miniconda3/lib/python3.9/site-packages (from cogdl) (3.5.2)\r\n",
      "Collecting optuna==2.4.0\r\n",
      "  Downloading optuna-2.4.0-py3-none-any.whl (282 kB)\r\n",
      "\u001B[2K     \u001B[90m━━━━━━━━━━━━━━━━━━━━━━━━━━━━━━━━━━━━━━━\u001B[0m \u001B[32m282.7/282.7 kB\u001B[0m \u001B[31m5.9 MB/s\u001B[0m eta \u001B[36m0:00:00\u001B[0m00:01\u001B[0m\r\n",
      "\u001B[?25hRequirement already satisfied: torch in /Users/wyt/opt/miniconda3/lib/python3.9/site-packages (from cogdl) (1.12.0)\r\n",
      "Collecting gensim<4.0\r\n",
      "  Downloading gensim-3.8.3.tar.gz (23.4 MB)\r\n",
      "\u001B[2K     \u001B[90m━━━━━━━━━━━━━━━━━━━━━━━━━━━━━━━━━━━━━━━━\u001B[0m \u001B[32m23.4/23.4 MB\u001B[0m \u001B[31m13.4 MB/s\u001B[0m eta \u001B[36m0:00:00\u001B[0m00:01\u001B[0m00:01\u001B[0m\r\n",
      "\u001B[?25h  Preparing metadata (setup.py) ... \u001B[?25ldone\r\n",
      "\u001B[?25hRequirement already satisfied: joblib in /Users/wyt/opt/miniconda3/lib/python3.9/site-packages (from optuna==2.4.0->cogdl) (1.1.0)\r\n",
      "Collecting cmaes>=0.6.0\r\n",
      "  Downloading cmaes-0.8.2-py3-none-any.whl (15 kB)\r\n",
      "Requirement already satisfied: sqlalchemy>=1.1.0 in /Users/wyt/opt/miniconda3/lib/python3.9/site-packages (from optuna==2.4.0->cogdl) (1.4.40)\r\n",
      "Requirement already satisfied: packaging>=20.0 in /Users/wyt/opt/miniconda3/lib/python3.9/site-packages (from optuna==2.4.0->cogdl) (21.3)\r\n",
      "Collecting colorlog\r\n",
      "  Downloading colorlog-6.7.0-py2.py3-none-any.whl (11 kB)\r\n",
      "Collecting cliff\r\n",
      "  Downloading cliff-4.0.0-py3-none-any.whl (80 kB)\r\n",
      "\u001B[2K     \u001B[90m━━━━━━━━━━━━━━━━━━━━━━━━━━━━━━━━━━━━━━━━\u001B[0m \u001B[32m81.0/81.0 kB\u001B[0m \u001B[31m2.6 MB/s\u001B[0m eta \u001B[36m0:00:00\u001B[0m\r\n",
      "\u001B[?25hCollecting alembic\r\n",
      "  Downloading alembic-1.8.1-py3-none-any.whl (209 kB)\r\n",
      "\u001B[2K     \u001B[90m━━━━━━━━━━━━━━━━━━━━━━━━━━━━━━━━━━━━━━━\u001B[0m \u001B[32m209.8/209.8 kB\u001B[0m \u001B[31m9.0 MB/s\u001B[0m eta \u001B[36m0:00:00\u001B[0m\r\n",
      "\u001B[?25hRequirement already satisfied: six>=1.5.0 in /Users/wyt/opt/miniconda3/lib/python3.9/site-packages (from gensim<4.0->cogdl) (1.16.0)\r\n",
      "Requirement already satisfied: smart_open>=1.8.1 in /Users/wyt/opt/miniconda3/lib/python3.9/site-packages (from gensim<4.0->cogdl) (5.2.1)\r\n",
      "Collecting mccabe<0.8.0,>=0.7.0\r\n",
      "  Downloading mccabe-0.7.0-py2.py3-none-any.whl (7.3 kB)\r\n",
      "Collecting pyflakes<2.6.0,>=2.5.0\r\n",
      "  Downloading pyflakes-2.5.0-py2.py3-none-any.whl (66 kB)\r\n",
      "\u001B[2K     \u001B[90m━━━━━━━━━━━━━━━━━━━━━━━━━━━━━━━━━━━━━━━━\u001B[0m \u001B[32m66.1/66.1 kB\u001B[0m \u001B[31m2.6 MB/s\u001B[0m eta \u001B[36m0:00:00\u001B[0m\r\n",
      "\u001B[?25hCollecting pycodestyle<2.10.0,>=2.9.0\r\n",
      "  Downloading pycodestyle-2.9.1-py2.py3-none-any.whl (41 kB)\r\n",
      "\u001B[2K     \u001B[90m━━━━━━━━━━━━━━━━━━━━━━━━━━━━━━━━━━━━━━━━\u001B[0m \u001B[32m41.5/41.5 kB\u001B[0m \u001B[31m1.6 MB/s\u001B[0m eta \u001B[36m0:00:00\u001B[0m\r\n",
      "\u001B[?25hRequirement already satisfied: pyparsing>=2.2.1 in /Users/wyt/opt/miniconda3/lib/python3.9/site-packages (from matplotlib->cogdl) (3.0.4)\r\n",
      "Requirement already satisfied: kiwisolver>=1.0.1 in /Users/wyt/opt/miniconda3/lib/python3.9/site-packages (from matplotlib->cogdl) (1.4.3)\r\n",
      "Requirement already satisfied: pillow>=6.2.0 in /Users/wyt/opt/miniconda3/lib/python3.9/site-packages (from matplotlib->cogdl) (9.2.0)\r\n",
      "Requirement already satisfied: python-dateutil>=2.7 in /Users/wyt/opt/miniconda3/lib/python3.9/site-packages (from matplotlib->cogdl) (2.8.2)\r\n",
      "Requirement already satisfied: fonttools>=4.22.0 in /Users/wyt/opt/miniconda3/lib/python3.9/site-packages (from matplotlib->cogdl) (4.34.4)\r\n",
      "Requirement already satisfied: cycler>=0.10 in /Users/wyt/opt/miniconda3/lib/python3.9/site-packages (from matplotlib->cogdl) (0.11.0)\r\n",
      "Requirement already satisfied: setuptools in /Users/wyt/opt/miniconda3/lib/python3.9/site-packages (from numba->cogdl) (63.4.1)\r\n",
      "Requirement already satisfied: llvmlite<0.39,>=0.38.0rc1 in /Users/wyt/opt/miniconda3/lib/python3.9/site-packages (from numba->cogdl) (0.38.0)\r\n",
      "Collecting outdated>=0.2.0\r\n",
      "  Downloading outdated-0.2.1-py3-none-any.whl (7.5 kB)\r\n",
      "Requirement already satisfied: pandas>=0.24.0 in /Users/wyt/opt/miniconda3/lib/python3.9/site-packages (from ogb->cogdl) (1.4.2)\r\n",
      "Requirement already satisfied: urllib3>=1.24.0 in /Users/wyt/opt/miniconda3/lib/python3.9/site-packages (from ogb->cogdl) (1.26.11)\r\n",
      "Requirement already satisfied: threadpoolctl>=2.0.0 in /Users/wyt/opt/miniconda3/lib/python3.9/site-packages (from scikit-learn->cogdl) (2.2.0)\r\n",
      "Requirement already satisfied: typing_extensions in /Users/wyt/opt/miniconda3/lib/python3.9/site-packages (from torch->cogdl) (4.3.0)\r\n",
      "Collecting virtualenv>=20.0.8\r\n",
      "  Downloading virtualenv-20.16.5-py3-none-any.whl (8.8 MB)\r\n",
      "\u001B[2K     \u001B[90m━━━━━━━━━━━━━━━━━━━━━━━━━━━━━━━━━━━━━━━━\u001B[0m \u001B[32m8.8/8.8 MB\u001B[0m \u001B[31m17.7 MB/s\u001B[0m eta \u001B[36m0:00:00\u001B[0m00:01\u001B[0m00:01\u001B[0m\r\n",
      "\u001B[?25hRequirement already satisfied: toml in /Users/wyt/opt/miniconda3/lib/python3.9/site-packages (from pre-commit->cogdl) (0.10.2)\r\n",
      "Collecting cfgv>=2.0.0\r\n",
      "  Downloading cfgv-3.3.1-py2.py3-none-any.whl (7.3 kB)\r\n",
      "Collecting identify>=1.0.0\r\n",
      "  Downloading identify-2.5.6-py2.py3-none-any.whl (98 kB)\r\n",
      "\u001B[2K     \u001B[90m━━━━━━━━━━━━━━━━━━━━━━━━━━━━━━━━━━━━━━━━\u001B[0m \u001B[32m98.7/98.7 kB\u001B[0m \u001B[31m3.9 MB/s\u001B[0m eta \u001B[36m0:00:00\u001B[0m\r\n",
      "\u001B[?25hRequirement already satisfied: pyyaml>=5.1 in /Users/wyt/opt/miniconda3/lib/python3.9/site-packages (from pre-commit->cogdl) (6.0)\r\n",
      "Collecting nodeenv>=0.11.1\r\n",
      "  Downloading nodeenv-1.7.0-py2.py3-none-any.whl (21 kB)\r\n",
      "Requirement already satisfied: sacremoses in /Users/wyt/opt/miniconda3/lib/python3.9/site-packages (from transformers->cogdl) (0.0.43)\r\n",
      "Requirement already satisfied: tokenizers!=0.11.3,<0.13,>=0.11.1 in /Users/wyt/opt/miniconda3/lib/python3.9/site-packages (from transformers->cogdl) (0.11.4)\r\n",
      "Requirement already satisfied: requests in /Users/wyt/opt/miniconda3/lib/python3.9/site-packages (from transformers->cogdl) (2.28.1)\r\n",
      "Requirement already satisfied: regex!=2019.12.17 in /Users/wyt/opt/miniconda3/lib/python3.9/site-packages (from transformers->cogdl) (2022.3.15)\r\n",
      "Requirement already satisfied: filelock in /Users/wyt/opt/miniconda3/lib/python3.9/site-packages (from transformers->cogdl) (3.6.0)\r\n",
      "Requirement already satisfied: huggingface-hub<1.0,>=0.1.0 in /Users/wyt/opt/miniconda3/lib/python3.9/site-packages (from transformers->cogdl) (0.9.1)\r\n",
      "Collecting littleutils\r\n",
      "  Downloading littleutils-0.2.2.tar.gz (6.6 kB)\r\n",
      "  Preparing metadata (setup.py) ... \u001B[?25ldone\r\n",
      "\u001B[?25hRequirement already satisfied: pytz>=2020.1 in /Users/wyt/opt/miniconda3/lib/python3.9/site-packages (from pandas>=0.24.0->ogb->cogdl) (2022.1)\r\n",
      "Collecting distlib<1,>=0.3.5\r\n",
      "  Downloading distlib-0.3.6-py2.py3-none-any.whl (468 kB)\r\n",
      "\u001B[2K     \u001B[90m━━━━━━━━━━━━━━━━━━━━━━━━━━━━━━━━━━━━━━━\u001B[0m \u001B[32m468.5/468.5 kB\u001B[0m \u001B[31m6.6 MB/s\u001B[0m eta \u001B[36m0:00:00\u001B[0m00:01\u001B[0m\r\n",
      "\u001B[?25hCollecting platformdirs<3,>=2.4\r\n",
      "  Downloading platformdirs-2.5.2-py3-none-any.whl (14 kB)\r\n",
      "Collecting Mako\r\n",
      "  Downloading Mako-1.2.3-py3-none-any.whl (78 kB)\r\n",
      "\u001B[2K     \u001B[90m━━━━━━━━━━━━━━━━━━━━━━━━━━━━━━━━━━━━━━━━\u001B[0m \u001B[32m78.7/78.7 kB\u001B[0m \u001B[31m3.0 MB/s\u001B[0m eta \u001B[36m0:00:00\u001B[0m\r\n",
      "\u001B[?25hCollecting autopage>=0.4.0\r\n",
      "  Downloading autopage-0.5.1-py3-none-any.whl (29 kB)\r\n",
      "Collecting cmd2>=1.0.0\r\n",
      "  Downloading cmd2-2.4.2-py3-none-any.whl (147 kB)\r\n",
      "\u001B[2K     \u001B[90m━━━━━━━━━━━━━━━━━━━━━━━━━━━━━━━━━━━━━━━\u001B[0m \u001B[32m147.1/147.1 kB\u001B[0m \u001B[31m2.3 MB/s\u001B[0m eta \u001B[36m0:00:00\u001B[0m00:01\u001B[0m\r\n",
      "\u001B[?25hRequirement already satisfied: importlib-metadata>=4.4 in /Users/wyt/opt/miniconda3/lib/python3.9/site-packages (from cliff->optuna==2.4.0->cogdl) (4.11.3)\r\n",
      "Collecting PrettyTable>=0.7.2\r\n",
      "  Downloading prettytable-3.4.1-py3-none-any.whl (26 kB)\r\n",
      "Collecting stevedore>=2.0.1\r\n",
      "  Downloading stevedore-4.0.1-py3-none-any.whl (49 kB)\r\n",
      "\u001B[2K     \u001B[90m━━━━━━━━━━━━━━━━━━━━━━━━━━━━━━━━━━━━━━━━\u001B[0m \u001B[32m50.0/50.0 kB\u001B[0m \u001B[31m2.0 MB/s\u001B[0m eta \u001B[36m0:00:00\u001B[0m\r\n",
      "\u001B[?25hRequirement already satisfied: idna<4,>=2.5 in /Users/wyt/opt/miniconda3/lib/python3.9/site-packages (from requests->transformers->cogdl) (3.3)\r\n",
      "Requirement already satisfied: charset-normalizer<3,>=2 in /Users/wyt/opt/miniconda3/lib/python3.9/site-packages (from requests->transformers->cogdl) (2.0.4)\r\n",
      "Requirement already satisfied: certifi>=2017.4.17 in /Users/wyt/opt/miniconda3/lib/python3.9/site-packages (from requests->transformers->cogdl) (2022.9.14)\r\n",
      "Requirement already satisfied: click in /Users/wyt/opt/miniconda3/lib/python3.9/site-packages (from sacremoses->transformers->cogdl) (8.1.3)\r\n",
      "Requirement already satisfied: wcwidth>=0.1.7 in /Users/wyt/opt/miniconda3/lib/python3.9/site-packages (from cmd2>=1.0.0->cliff->optuna==2.4.0->cogdl) (0.2.5)\r\n",
      "Requirement already satisfied: attrs>=16.3.0 in /Users/wyt/opt/miniconda3/lib/python3.9/site-packages (from cmd2>=1.0.0->cliff->optuna==2.4.0->cogdl) (21.4.0)\r\n",
      "Collecting pyperclip>=1.6\r\n",
      "  Downloading pyperclip-1.8.2.tar.gz (20 kB)\r\n",
      "  Preparing metadata (setup.py) ... \u001B[?25ldone\r\n",
      "\u001B[?25hRequirement already satisfied: zipp>=0.5 in /Users/wyt/opt/miniconda3/lib/python3.9/site-packages (from importlib-metadata>=4.4->cliff->optuna==2.4.0->cogdl) (3.8.0)\r\n",
      "Collecting pbr!=2.1.0,>=2.0.0\r\n",
      "  Downloading pbr-5.10.0-py2.py3-none-any.whl (112 kB)\r\n",
      "\u001B[2K     \u001B[90m━━━━━━━━━━━━━━━━━━━━━━━━━━━━━━━━━━━━━━━\u001B[0m \u001B[32m112.4/112.4 kB\u001B[0m \u001B[31m4.3 MB/s\u001B[0m eta \u001B[36m0:00:00\u001B[0m\r\n",
      "\u001B[?25hRequirement already satisfied: MarkupSafe>=0.9.2 in /Users/wyt/opt/miniconda3/lib/python3.9/site-packages (from Mako->alembic->optuna==2.4.0->cogdl) (2.1.1)\r\n",
      "Building wheels for collected packages: gensim, littleutils, pyperclip\r\n",
      "  Building wheel for gensim (setup.py) ... \u001B[?25ldone\r\n",
      "\u001B[?25h  Created wheel for gensim: filename=gensim-3.8.3-cp39-cp39-macosx_11_0_arm64.whl size=24152566 sha256=c1a74a88c9f4b3b1cf96837bdb9db957a5af696da4d5305c7c32e46b2ce0436f\r\n",
      "  Stored in directory: /Users/wyt/Library/Caches/pip/wheels/ca/5d/af/618594ec2f28608c1d6ee7d2b7e95a3e9b06551e3b80a491d6\r\n",
      "  Building wheel for littleutils (setup.py) ... \u001B[?25ldone\r\n",
      "\u001B[?25h  Created wheel for littleutils: filename=littleutils-0.2.2-py3-none-any.whl size=7028 sha256=98502406cbe7cc6ac02b930ce2c9351b13865870e0d25c0466b24b867617e368\r\n",
      "  Stored in directory: /Users/wyt/Library/Caches/pip/wheels/04/bb/0d/2d02ec45f29c48d6192476bfb59c5a0e64b605e7212374dd15\r\n",
      "  Building wheel for pyperclip (setup.py) ... \u001B[?25ldone\r\n",
      "\u001B[?25h  Created wheel for pyperclip: filename=pyperclip-1.8.2-py3-none-any.whl size=11123 sha256=e6262acad5bff381a4243143c9dec4a71286e575e45792873729456993b9aea6\r\n",
      "  Stored in directory: /Users/wyt/Library/Caches/pip/wheels/0c/09/9e/49e21a6840ef7955b06d47394afef0058f0378c0914e48b8b8\r\n",
      "Successfully built gensim littleutils pyperclip\r\n",
      "Installing collected packages: sentencepiece, pyperclip, ninja, littleutils, grave, distlib, tabulate, pyflakes, pycodestyle, PrettyTable, platformdirs, pbr, nodeenv, networkx, mccabe, Mako, identify, colorlog, cmd2, cmaes, cfgv, autopage, virtualenv, stevedore, outdated, gensim, flake8, alembic, pre-commit, ogb, cliff, optuna, cogdl\r\n",
      "Successfully installed Mako-1.2.3 PrettyTable-3.4.1 alembic-1.8.1 autopage-0.5.1 cfgv-3.3.1 cliff-4.0.0 cmaes-0.8.2 cmd2-2.4.2 cogdl-0.5.3 colorlog-6.7.0 distlib-0.3.6 flake8-5.0.4 gensim-3.8.3 grave-0.0.3 identify-2.5.6 littleutils-0.2.2 mccabe-0.7.0 networkx-2.8.7 ninja-1.10.2.4 nodeenv-1.7.0 ogb-1.3.4 optuna-2.4.0 outdated-0.2.1 pbr-5.10.0 platformdirs-2.5.2 pre-commit-2.20.0 pycodestyle-2.9.1 pyflakes-2.5.0 pyperclip-1.8.2 sentencepiece-0.1.97 stevedore-4.0.1 tabulate-0.9.0 virtualenv-20.16.5\r\n"
     ]
    }
   ],
   "source": [
    "!pip install cogdl"
   ]
  },
  {
   "cell_type": "markdown",
   "metadata": {
    "id": "pGvV3jGN9abi",
    "pycharm": {
     "name": "#%% md\n"
    }
   },
   "source": [
    "## 1. 加载数据集\n",
    "\n",
    "从cogdl中加载论文引用网络Cora数据集。在Cora数据集中，节点代表每篇文章，边代表论文之间的引用关系，节点标签代表文章所属的类型（7分类）。"
   ]
  },
  {
   "cell_type": "code",
   "execution_count": 2,
   "metadata": {
    "colab": {
     "base_uri": "https://localhost:8080/"
    },
    "id": "U4d39-EN2cjb",
    "outputId": "98678de5-4e9e-4b88-fa83-246cee7825a8",
    "pycharm": {
     "name": "#%%\n"
    }
   },
   "outputs": [
    {
     "name": "stdout",
     "output_type": "stream",
     "text": [
      "Downloading https://cloud.tsinghua.edu.cn/d/6808093f7f8042bfa1f0/files/?p=%2Fcora.zip&dl=1\n",
      "unpacking cora.zip\n",
      "Processing...\n",
      "Done!\n",
      "Graph(x=[2708, 1433], y=[2708], train_mask=[2708], val_mask=[2708], test_mask=[2708], edge_index=[2, 10556])\n"
     ]
    }
   ],
   "source": [
    "from cogdl.datasets import build_dataset_from_name\n",
    "\n",
    "dataset = build_dataset_from_name(\"cora\")\n",
    "graph = dataset[0]\n",
    "print(graph)\n",
    "\n",
    "train_mask = graph.train_mask\n",
    "val_mask = graph.val_mask\n",
    "test_mask = graph.test_mask\n",
    "labels = graph.y.numpy()\n",
    "\n",
    "graph = graph.to_networkx()"
   ]
  },
  {
   "cell_type": "markdown",
   "metadata": {
    "id": "ZooKxL_c9ox1",
    "pycharm": {
     "name": "#%% md\n"
    }
   },
   "source": [
    "## 2. 实现DeepWalk算法\n",
    "\n",
    "在本次作业中，同学们可以先阅读已提供的DeepWalk算法的框架，然后完成其中随机游走生成路径部分的代码。"
   ]
  },
  {
   "cell_type": "code",
   "execution_count": 3,
   "metadata": {
    "id": "8bqMzONy2cjZ",
    "pycharm": {
     "name": "#%%\n"
    }
   },
   "outputs": [],
   "source": [
    "import random\n",
    "import numpy as np\n",
    "from gensim.models import Word2Vec\n",
    "from tqdm import tqdm\n",
    "\n",
    "class DeepWalk:\n",
    "    r\"\"\"The DeepWalk model from the `\"DeepWalk: Online Learning of Social Representations\"\n",
    "    <https://arxiv.org/abs/1403.6652>`_ paper\n",
    "    Args:\n",
    "        hidden_size (int) : The dimension of node representation.\n",
    "        walk_length (int) : The walk length.\n",
    "        walk_num (int) : The number of walks to sample for each node.\n",
    "        window_size (int) : The actual context size which is considered in language model.\n",
    "        worker (int) : The number of workers for word2vec.\n",
    "        iteration (int) : The number of training iteration in word2vec.\n",
    "    \"\"\"\n",
    "    def __init__(self, dimension, walk_length, walk_num, window_size, worker=1, iteration=10):\n",
    "        super(DeepWalk, self).__init__()\n",
    "        self.dimension = dimension\n",
    "        self.walk_length = walk_length\n",
    "        self.walk_num = walk_num\n",
    "        self.window_size = window_size\n",
    "        self.worker = worker\n",
    "        self.iteration = iteration\n",
    "\n",
    "    def train(self, graph):\n",
    "        nx_nodes = graph.nodes()\n",
    "        num_nodes = len(nx_nodes)\n",
    "        \n",
    "        '''\n",
    "        请实现随机游走算法来获取walks，形式为list[list]，比如[[1,2,3], [2,3,4]]。\n",
    "        从图中每个节点出发walk_num次，每次走一条walk_length长度的路径。\n",
    "        '''\n",
    "        ###################\n",
    "        ##### 代码填空 #####\n",
    "        ###################\n",
    "        # walks = ...\n",
    "        walks = []\n",
    "        for walk_iter in range(self.walk_num):\n",
    "            random.shuffle(nx_nodes)\n",
    "            for node in nx_nodes:\n",
    "                walk = []\n",
    "                while len(walk) < self.walk_length:\n",
    "                    cur = walk[-1]\n",
    "                    cur_nbrs = list(graph.to_networkx().neighbors(cur))\n",
    "                    if len(cur_nbrs) == 0:\n",
    "                        break\n",
    "                    k = int(np.floor(np.random.rand() * len(cur_nbrs)))\n",
    "                    walk.append(cur_nbrs[k])\n",
    "                walks.append(walk)\n",
    "        walks = [[str(node) for node in walk] for walk in walks] # 将walk中的元素转成str，满足Word2Vec计算的要求\n",
    "        print(\"training word2vec...\")\n",
    "        model = Word2Vec(\n",
    "            walks,\n",
    "            size=self.dimension,\n",
    "            window=self.window_size,\n",
    "            min_count=0,\n",
    "            sg=1,\n",
    "            workers=self.worker,\n",
    "            iter=self.iteration,\n",
    "        )\n",
    "        id2node = dict([(vid, node) for vid, node in enumerate(graph.nodes())])\n",
    "        embeddings = np.asarray([model.wv[str(id2node[i])] for i in range(len(id2node))])\n",
    "\n",
    "        features_matrix = np.zeros((num_nodes, embeddings.shape[1]))\n",
    "        features_matrix[nx_nodes] = embeddings[np.arange(num_nodes)]\n",
    "        return features_matrix\n"
   ]
  },
  {
   "cell_type": "markdown",
   "metadata": {
    "id": "Z8ru2ZZD-G_s",
    "pycharm": {
     "name": "#%% md\n"
    }
   },
   "source": [
    "## 3. DeepWalk模型训练\n"
   ]
  },
  {
   "cell_type": "code",
   "execution_count": null,
   "metadata": {
    "id": "u6AflNlS2cjc",
    "outputId": "9098eff1-c5c5-4262-aa1e-c13ed4a2a44c",
    "pycharm": {
     "name": "#%%\n"
    }
   },
   "outputs": [
    {
     "name": "stderr",
     "output_type": "stream",
     "text": [
      " 10%|█         | 1/10 [00:00<00:01,  6.89it/s]"
     ]
    },
    {
     "name": "stdout",
     "output_type": "stream",
     "text": [
      "node number: 2708\n",
      "generating random walks...\n"
     ]
    },
    {
     "name": "stderr",
     "output_type": "stream",
     "text": [
      "100%|██████████| 10/10 [00:01<00:00,  7.60it/s]\n"
     ]
    },
    {
     "name": "stdout",
     "output_type": "stream",
     "text": [
      "training word2vec...\n",
      "(2708, 128)\n"
     ]
    }
   ],
   "source": [
    "model = DeepWalk(dimension=128, walk_length=20, walk_num=10, window_size=5)\n",
    "emb = model.train(graph)\n",
    "print(emb.shape)"
   ]
  },
  {
   "cell_type": "markdown",
   "metadata": {
    "id": "pE2hJ4rx-KAc",
    "pycharm": {
     "name": "#%% md\n"
    }
   },
   "source": [
    "## 4. 训练下游线性分类器得到预测结果"
   ]
  },
  {
   "cell_type": "code",
   "execution_count": null,
   "metadata": {
    "id": "trVrJ_1N2cjc",
    "outputId": "54a1a0c0-244d-4187-daae-b671c9e050dc",
    "pycharm": {
     "name": "#%%\n"
    }
   },
   "outputs": [
    {
     "name": "stdout",
     "output_type": "stream",
     "text": [
      "预测准确率为68.4%\n"
     ]
    }
   ],
   "source": [
    "from sklearn.linear_model import LogisticRegression\n",
    "\n",
    "train_X = emb[train_mask]\n",
    "test_X = emb[test_mask]\n",
    "train_y = labels[train_mask]\n",
    "test_y = labels[test_mask]\n",
    "\n",
    "clf = LogisticRegression(solver=\"liblinear\")\n",
    "clf.fit(train_X, train_y)\n",
    "pred = clf.predict(test_X)\n",
    "\n",
    "acc = (pred == test_y).sum() / len(pred)\n",
    "print(f\"预测准确率为{acc*100:.1f}%\")"
   ]
  }
 ],
 "metadata": {
  "colab": {
   "collapsed_sections": [],
   "name": "hw1.ipynb",
   "provenance": []
  },
  "kernelspec": {
   "display_name": "Python 3.6.15 ('py3.6')",
   "language": "python",
   "name": "python3"
  },
  "language_info": {
   "codemirror_mode": {
    "name": "ipython",
    "version": 3
   },
   "file_extension": ".py",
   "mimetype": "text/x-python",
   "name": "python",
   "nbconvert_exporter": "python",
   "pygments_lexer": "ipython3",
   "version": "3.6.15"
  },
  "orig_nbformat": 4,
  "vscode": {
   "interpreter": {
    "hash": "7703d8cc28a94efd96474faf641471b2ac55415e3c97cc8df6cd7b51cf78a952"
   }
  }
 },
 "nbformat": 4,
 "nbformat_minor": 0
}