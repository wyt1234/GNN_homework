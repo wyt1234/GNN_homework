{
 "cells": [
  {
   "cell_type": "markdown",
   "metadata": {
    "id": "9l2xo8YQ2cjY",
    "pycharm": {
     "name": "#%% md\n"
    }
   },
   "source": [
    "# 第二次作业\n",
    "\n",
    "本次作业我们将对比不同network embedding算法的效果，包括DeepWalk, NetMF, NetSMF, ProNE。\n",
    "相关的模型我们可以直接从cogdl中加载，但需要大家选择合适的超参值，并对实验结果进行一些分析。\n",
    "\n",
    "本作业需要安装[CogDL](https://github.com/THUDM/cogdl)：pip install cogdl\n",
    "\n",
    "如需使用gpu版，请先安装gpu版本的[PyTorch](https://pytorch.org/get-started/locally/)，再安装cogdl。\n",
    "\n",
    "本作业由智谱GNN中心及课程团队筹备，由CogDL团队提供技术支持。"
   ]
  },
  {
   "cell_type": "markdown",
   "metadata": {
    "id": "naC11Hqm_BNR",
    "pycharm": {
     "name": "#%% md\n"
    }
   },
   "source": [
    "## 0. 安装CogDL\n",
    "如果已安装CogDL，可以忽略这一步"
   ]
  },
  {
   "cell_type": "code",
   "execution_count": 1,
   "metadata": {
    "id": "lPasG5Fy-_Q0",
    "pycharm": {
     "name": "#%%\n"
    }
   },
   "outputs": [
    {
     "name": "stdout",
     "output_type": "stream",
     "text": [
      "Requirement already satisfied: cogdl in /Users/wyt/opt/miniconda3/lib/python3.9/site-packages (0.5.3)\r\n",
      "Requirement already satisfied: gensim<4.0 in /Users/wyt/opt/miniconda3/lib/python3.9/site-packages (from cogdl) (3.8.3)\r\n",
      "Requirement already satisfied: grave in /Users/wyt/opt/miniconda3/lib/python3.9/site-packages (from cogdl) (0.0.3)\r\n",
      "Requirement already satisfied: matplotlib in /Users/wyt/opt/miniconda3/lib/python3.9/site-packages (from cogdl) (3.5.2)\r\n",
      "Requirement already satisfied: scikit-learn in /Users/wyt/opt/miniconda3/lib/python3.9/site-packages (from cogdl) (1.0.2)\r\n",
      "Requirement already satisfied: flake8 in /Users/wyt/opt/miniconda3/lib/python3.9/site-packages (from cogdl) (5.0.4)\r\n",
      "Requirement already satisfied: pre-commit in /Users/wyt/opt/miniconda3/lib/python3.9/site-packages (from cogdl) (2.20.0)\r\n",
      "Requirement already satisfied: ogb in /Users/wyt/opt/miniconda3/lib/python3.9/site-packages (from cogdl) (1.3.4)\r\n",
      "Requirement already satisfied: numba in /Users/wyt/opt/miniconda3/lib/python3.9/site-packages (from cogdl) (0.55.1)\r\n",
      "Requirement already satisfied: tabulate in /Users/wyt/opt/miniconda3/lib/python3.9/site-packages (from cogdl) (0.9.0)\r\n",
      "Requirement already satisfied: sentencepiece in /Users/wyt/opt/miniconda3/lib/python3.9/site-packages (from cogdl) (0.1.97)\r\n",
      "Requirement already satisfied: tqdm in /Users/wyt/opt/miniconda3/lib/python3.9/site-packages (from cogdl) (4.64.0)\r\n",
      "Requirement already satisfied: scipy in /Users/wyt/opt/miniconda3/lib/python3.9/site-packages (from cogdl) (1.7.3)\r\n",
      "Requirement already satisfied: ninja in /Users/wyt/opt/miniconda3/lib/python3.9/site-packages (from cogdl) (1.10.2.4)\r\n",
      "Requirement already satisfied: numpy>=1.21 in /Users/wyt/opt/miniconda3/lib/python3.9/site-packages (from cogdl) (1.21.5)\r\n",
      "Requirement already satisfied: networkx in /Users/wyt/opt/miniconda3/lib/python3.9/site-packages (from cogdl) (2.8.7)\r\n",
      "Requirement already satisfied: transformers in /Users/wyt/opt/miniconda3/lib/python3.9/site-packages (from cogdl) (4.18.0)\r\n",
      "Requirement already satisfied: torch in /Users/wyt/opt/miniconda3/lib/python3.9/site-packages (from cogdl) (1.12.0)\r\n",
      "Requirement already satisfied: optuna==2.4.0 in /Users/wyt/opt/miniconda3/lib/python3.9/site-packages (from cogdl) (2.4.0)\r\n",
      "Requirement already satisfied: alembic in /Users/wyt/opt/miniconda3/lib/python3.9/site-packages (from optuna==2.4.0->cogdl) (1.8.1)\r\n",
      "Requirement already satisfied: packaging>=20.0 in /Users/wyt/opt/miniconda3/lib/python3.9/site-packages (from optuna==2.4.0->cogdl) (21.3)\r\n",
      "Requirement already satisfied: cliff in /Users/wyt/opt/miniconda3/lib/python3.9/site-packages (from optuna==2.4.0->cogdl) (4.0.0)\r\n",
      "Requirement already satisfied: colorlog in /Users/wyt/opt/miniconda3/lib/python3.9/site-packages (from optuna==2.4.0->cogdl) (6.7.0)\r\n",
      "Requirement already satisfied: cmaes>=0.6.0 in /Users/wyt/opt/miniconda3/lib/python3.9/site-packages (from optuna==2.4.0->cogdl) (0.8.2)\r\n",
      "Requirement already satisfied: sqlalchemy>=1.1.0 in /Users/wyt/opt/miniconda3/lib/python3.9/site-packages (from optuna==2.4.0->cogdl) (1.4.40)\r\n",
      "Requirement already satisfied: joblib in /Users/wyt/opt/miniconda3/lib/python3.9/site-packages (from optuna==2.4.0->cogdl) (1.1.0)\r\n",
      "Requirement already satisfied: smart-open>=1.8.1 in /Users/wyt/opt/miniconda3/lib/python3.9/site-packages (from gensim<4.0->cogdl) (5.2.1)\r\n",
      "Requirement already satisfied: six>=1.5.0 in /Users/wyt/opt/miniconda3/lib/python3.9/site-packages (from gensim<4.0->cogdl) (1.16.0)\r\n",
      "Requirement already satisfied: pyflakes<2.6.0,>=2.5.0 in /Users/wyt/opt/miniconda3/lib/python3.9/site-packages (from flake8->cogdl) (2.5.0)\r\n",
      "Requirement already satisfied: pycodestyle<2.10.0,>=2.9.0 in /Users/wyt/opt/miniconda3/lib/python3.9/site-packages (from flake8->cogdl) (2.9.1)\r\n",
      "Requirement already satisfied: mccabe<0.8.0,>=0.7.0 in /Users/wyt/opt/miniconda3/lib/python3.9/site-packages (from flake8->cogdl) (0.7.0)\r\n",
      "Requirement already satisfied: python-dateutil>=2.7 in /Users/wyt/opt/miniconda3/lib/python3.9/site-packages (from matplotlib->cogdl) (2.8.2)\r\n",
      "Requirement already satisfied: pillow>=6.2.0 in /Users/wyt/opt/miniconda3/lib/python3.9/site-packages (from matplotlib->cogdl) (9.2.0)\r\n",
      "Requirement already satisfied: cycler>=0.10 in /Users/wyt/opt/miniconda3/lib/python3.9/site-packages (from matplotlib->cogdl) (0.11.0)\r\n",
      "Requirement already satisfied: fonttools>=4.22.0 in /Users/wyt/opt/miniconda3/lib/python3.9/site-packages (from matplotlib->cogdl) (4.34.4)\r\n",
      "Requirement already satisfied: pyparsing>=2.2.1 in /Users/wyt/opt/miniconda3/lib/python3.9/site-packages (from matplotlib->cogdl) (3.0.4)\r\n",
      "Requirement already satisfied: kiwisolver>=1.0.1 in /Users/wyt/opt/miniconda3/lib/python3.9/site-packages (from matplotlib->cogdl) (1.4.3)\r\n",
      "Requirement already satisfied: llvmlite<0.39,>=0.38.0rc1 in /Users/wyt/opt/miniconda3/lib/python3.9/site-packages (from numba->cogdl) (0.38.0)\r\n",
      "Requirement already satisfied: setuptools in /Users/wyt/opt/miniconda3/lib/python3.9/site-packages (from numba->cogdl) (63.4.1)\r\n",
      "Requirement already satisfied: urllib3>=1.24.0 in /Users/wyt/opt/miniconda3/lib/python3.9/site-packages (from ogb->cogdl) (1.26.11)\r\n",
      "Requirement already satisfied: outdated>=0.2.0 in /Users/wyt/opt/miniconda3/lib/python3.9/site-packages (from ogb->cogdl) (0.2.1)\r\n",
      "Requirement already satisfied: pandas>=0.24.0 in /Users/wyt/opt/miniconda3/lib/python3.9/site-packages (from ogb->cogdl) (1.4.2)\r\n",
      "Requirement already satisfied: threadpoolctl>=2.0.0 in /Users/wyt/opt/miniconda3/lib/python3.9/site-packages (from scikit-learn->cogdl) (2.2.0)\r\n",
      "Requirement already satisfied: typing_extensions in /Users/wyt/opt/miniconda3/lib/python3.9/site-packages (from torch->cogdl) (4.3.0)\r\n",
      "Requirement already satisfied: cfgv>=2.0.0 in /Users/wyt/opt/miniconda3/lib/python3.9/site-packages (from pre-commit->cogdl) (3.3.1)\r\n",
      "Requirement already satisfied: nodeenv>=0.11.1 in /Users/wyt/opt/miniconda3/lib/python3.9/site-packages (from pre-commit->cogdl) (1.7.0)\r\n",
      "Requirement already satisfied: pyyaml>=5.1 in /Users/wyt/opt/miniconda3/lib/python3.9/site-packages (from pre-commit->cogdl) (6.0)\r\n",
      "Requirement already satisfied: virtualenv>=20.0.8 in /Users/wyt/opt/miniconda3/lib/python3.9/site-packages (from pre-commit->cogdl) (20.16.5)\r\n",
      "Requirement already satisfied: identify>=1.0.0 in /Users/wyt/opt/miniconda3/lib/python3.9/site-packages (from pre-commit->cogdl) (2.5.6)\r\n",
      "Requirement already satisfied: toml in /Users/wyt/opt/miniconda3/lib/python3.9/site-packages (from pre-commit->cogdl) (0.10.2)\r\n",
      "Requirement already satisfied: filelock in /Users/wyt/opt/miniconda3/lib/python3.9/site-packages (from transformers->cogdl) (3.6.0)\r\n",
      "Requirement already satisfied: sacremoses in /Users/wyt/opt/miniconda3/lib/python3.9/site-packages (from transformers->cogdl) (0.0.43)\r\n",
      "Requirement already satisfied: requests in /Users/wyt/opt/miniconda3/lib/python3.9/site-packages (from transformers->cogdl) (2.28.1)\r\n",
      "Requirement already satisfied: tokenizers!=0.11.3,<0.13,>=0.11.1 in /Users/wyt/opt/miniconda3/lib/python3.9/site-packages (from transformers->cogdl) (0.11.4)\r\n",
      "Requirement already satisfied: huggingface-hub<1.0,>=0.1.0 in /Users/wyt/opt/miniconda3/lib/python3.9/site-packages (from transformers->cogdl) (0.9.1)\r\n",
      "Requirement already satisfied: regex!=2019.12.17 in /Users/wyt/opt/miniconda3/lib/python3.9/site-packages (from transformers->cogdl) (2022.3.15)\r\n",
      "Requirement already satisfied: littleutils in /Users/wyt/opt/miniconda3/lib/python3.9/site-packages (from outdated>=0.2.0->ogb->cogdl) (0.2.2)\r\n",
      "Requirement already satisfied: pytz>=2020.1 in /Users/wyt/opt/miniconda3/lib/python3.9/site-packages (from pandas>=0.24.0->ogb->cogdl) (2022.1)\r\n",
      "Requirement already satisfied: distlib<1,>=0.3.5 in /Users/wyt/opt/miniconda3/lib/python3.9/site-packages (from virtualenv>=20.0.8->pre-commit->cogdl) (0.3.6)\r\n",
      "Requirement already satisfied: platformdirs<3,>=2.4 in /Users/wyt/opt/miniconda3/lib/python3.9/site-packages (from virtualenv>=20.0.8->pre-commit->cogdl) (2.5.2)\r\n",
      "Requirement already satisfied: Mako in /Users/wyt/opt/miniconda3/lib/python3.9/site-packages (from alembic->optuna==2.4.0->cogdl) (1.2.3)\r\n",
      "Requirement already satisfied: cmd2>=1.0.0 in /Users/wyt/opt/miniconda3/lib/python3.9/site-packages (from cliff->optuna==2.4.0->cogdl) (2.4.2)\r\n",
      "Requirement already satisfied: autopage>=0.4.0 in /Users/wyt/opt/miniconda3/lib/python3.9/site-packages (from cliff->optuna==2.4.0->cogdl) (0.5.1)\r\n",
      "Requirement already satisfied: importlib-metadata>=4.4 in /Users/wyt/opt/miniconda3/lib/python3.9/site-packages (from cliff->optuna==2.4.0->cogdl) (4.11.3)\r\n",
      "Requirement already satisfied: stevedore>=2.0.1 in /Users/wyt/opt/miniconda3/lib/python3.9/site-packages (from cliff->optuna==2.4.0->cogdl) (4.0.1)\r\n",
      "Requirement already satisfied: PrettyTable>=0.7.2 in /Users/wyt/opt/miniconda3/lib/python3.9/site-packages (from cliff->optuna==2.4.0->cogdl) (3.4.1)\r\n",
      "Requirement already satisfied: idna<4,>=2.5 in /Users/wyt/opt/miniconda3/lib/python3.9/site-packages (from requests->transformers->cogdl) (3.3)\r\n",
      "Requirement already satisfied: charset-normalizer<3,>=2 in /Users/wyt/opt/miniconda3/lib/python3.9/site-packages (from requests->transformers->cogdl) (2.0.4)\r\n",
      "Requirement already satisfied: certifi>=2017.4.17 in /Users/wyt/opt/miniconda3/lib/python3.9/site-packages (from requests->transformers->cogdl) (2022.9.14)\r\n",
      "Requirement already satisfied: click in /Users/wyt/opt/miniconda3/lib/python3.9/site-packages (from sacremoses->transformers->cogdl) (8.1.3)\r\n",
      "Requirement already satisfied: wcwidth>=0.1.7 in /Users/wyt/opt/miniconda3/lib/python3.9/site-packages (from cmd2>=1.0.0->cliff->optuna==2.4.0->cogdl) (0.2.5)\r\n",
      "Requirement already satisfied: pyperclip>=1.6 in /Users/wyt/opt/miniconda3/lib/python3.9/site-packages (from cmd2>=1.0.0->cliff->optuna==2.4.0->cogdl) (1.8.2)\r\n",
      "Requirement already satisfied: attrs>=16.3.0 in /Users/wyt/opt/miniconda3/lib/python3.9/site-packages (from cmd2>=1.0.0->cliff->optuna==2.4.0->cogdl) (21.4.0)\r\n",
      "Requirement already satisfied: zipp>=0.5 in /Users/wyt/opt/miniconda3/lib/python3.9/site-packages (from importlib-metadata>=4.4->cliff->optuna==2.4.0->cogdl) (3.8.0)\r\n",
      "Requirement already satisfied: pbr!=2.1.0,>=2.0.0 in /Users/wyt/opt/miniconda3/lib/python3.9/site-packages (from stevedore>=2.0.1->cliff->optuna==2.4.0->cogdl) (5.10.0)\r\n",
      "Requirement already satisfied: MarkupSafe>=0.9.2 in /Users/wyt/opt/miniconda3/lib/python3.9/site-packages (from Mako->alembic->optuna==2.4.0->cogdl) (2.1.1)\r\n"
     ]
    }
   ],
   "source": [
    "!pip install cogdl"
   ]
  },
  {
   "cell_type": "markdown",
   "metadata": {
    "id": "pGvV3jGN9abi",
    "pycharm": {
     "name": "#%% md\n"
    }
   },
   "source": [
    "## 1. 加载数据集\n",
    "\n",
    "本次作业我们使用PPI数据集，是一个蛋白质交互网络。其中每个节点代表一个蛋白质，每条边代表蛋白质之间的交互关系，节点标签代表蛋白质的某种状态。"
   ]
  },
  {
   "cell_type": "code",
   "execution_count": 2,
   "metadata": {
    "colab": {
     "base_uri": "https://localhost:8080/"
    },
    "id": "U4d39-EN2cjb",
    "outputId": "98678de5-4e9e-4b88-fa83-246cee7825a8",
    "pycharm": {
     "name": "#%%\n"
    }
   },
   "outputs": [
    {
     "name": "stdout",
     "output_type": "stream",
     "text": [
      "Downloading http://snap.stanford.edu/node2vec/Homo_sapiens.mat\n",
      "Processing...\n",
      "Done!\n",
      "Graph(y=[3890, 50], edge_index=[2, 76584], edge_attr=[1, 76584])\n"
     ]
    }
   ],
   "source": [
    "from cogdl.datasets import build_dataset_from_name\n",
    "\n",
    "dataset = build_dataset_from_name(\"ppi-ne\")\n",
    "graph = dataset[0]\n",
    "print(graph)\n",
    "\n",
    "labels = graph.y.numpy()"
   ]
  },
  {
   "cell_type": "markdown",
   "metadata": {
    "pycharm": {
     "name": "#%% md\n"
    }
   },
   "source": [
    "## 2. 模型训练\n"
   ]
  },
  {
   "cell_type": "markdown",
   "metadata": {
    "pycharm": {
     "name": "#%% md\n"
    }
   },
   "source": [
    "### 2.1 DeepWalk模型训练"
   ]
  },
  {
   "cell_type": "code",
   "execution_count": 2,
   "metadata": {
    "id": "u6AflNlS2cjc",
    "outputId": "9098eff1-c5c5-4262-aa1e-c13ed4a2a44c",
    "pycharm": {
     "name": "#%%\n"
    }
   },
   "outputs": [
    {
     "name": "stderr",
     "output_type": "stream",
     "text": [
      "  0%|          | 0/10 [00:00<?, ?it/s]"
     ]
    },
    {
     "name": "stdout",
     "output_type": "stream",
     "text": [
      "node number: 3890\n",
      "generating random walks...\n"
     ]
    },
    {
     "name": "stderr",
     "output_type": "stream",
     "text": [
      "100%|██████████| 10/10 [00:02<00:00,  3.47it/s]\n"
     ]
    },
    {
     "name": "stdout",
     "output_type": "stream",
     "text": [
      "training word2vec...\n",
      "(3890, 128)\n"
     ]
    }
   ],
   "source": [
    "from cogdl.models.emb.deepwalk import DeepWalk\n",
    "\n",
    "###################\n",
    "##### 作业填空 #####\n",
    "###################\n",
    "'''\n",
    "请用自己的语言解释以下超参的含义，并为它们选择合适的值填入下面的模型实例化中。\n",
    "1. walk_length: Length of walk\n",
    "2. walk_num: each node sample\n",
    "3. window_size: context size\n",
    "'''\n",
    "deepwalk = DeepWalk(dimension=128, walk_length=80, walk_num=40, window_size=5, worker=1, iteration=10)\n",
    "deepwalk_emb = deepwalk(graph)\n",
    "print(deepwalk_emb.shape)"
   ]
  },
  {
   "cell_type": "markdown",
   "metadata": {
    "pycharm": {
     "name": "#%% md\n"
    }
   },
   "source": [
    "### 2.2 NetMF模型训练"
   ]
  },
  {
   "cell_type": "code",
   "execution_count": 3,
   "metadata": {
    "pycharm": {
     "name": "#%%\n"
    }
   },
   "outputs": [
    {
     "name": "stdout",
     "output_type": "stream",
     "text": [
      "Running NetMF for a small window size...\n",
      "Compute matrix %d-th power 1\n",
      "Compute matrix %d-th power 2\n",
      "Compute matrix %d-th power 3\n",
      "Compute matrix %d-th power 4\n",
      "Compute matrix %d-th power 5\n",
      "(3890, 128)\n"
     ]
    }
   ],
   "source": [
    "from cogdl.models.emb.netmf import NetMF\n",
    "\n",
    "###################\n",
    "##### 作业填空 #####\n",
    "###################\n",
    "'''\n",
    "请用自己的语言解释以下超参的含义，并为它们选择合适的值填入下面的模型实例化中。\n",
    "1. window_size: context size\n",
    "2. rank: laplacian\n",
    "3. negative: nagative samples nums\n",
    "4. is_large: big or not\n",
    "'''\n",
    "netmf = NetMF(dimension=128, window_size=5, rank=256, negative=1, is_large=True)\n",
    "netmf_emb = netmf(graph)\n",
    "print(netmf_emb.shape)"
   ]
  },
  {
   "cell_type": "markdown",
   "metadata": {
    "pycharm": {
     "name": "#%% md\n"
    }
   },
   "source": [
    "### 2.3 NetSMF模型训练"
   ]
  },
  {
   "cell_type": "code",
   "execution_count": 4,
   "metadata": {
    "pycharm": {
     "name": "#%%\n"
    }
   },
   "outputs": [
    {
     "name": "stdout",
     "output_type": "stream",
     "text": [
      "alias_nodes 0.2021329402923584\n",
      "number of sample edges  1936950\n",
      "random walk start...\n"
     ]
    },
    {
     "name": "stderr",
     "output_type": "stream",
     "text": [
      "100%|██████████| 387390/387390 [00:43<00:00, 8877.98it/s]\n"
     ]
    },
    {
     "name": "stdout",
     "output_type": "stream",
     "text": [
      "random walk time 44.221038818359375\n",
      "construct random walk matrix time 0.0067098140716552734\n",
      "number of nzz 691205\n",
      "construct matrix sparsifier time 0.1208808422088623\n",
      "svd sparse 0.04567806186847827\n",
      "sparsesvd time 0.6594181060791016\n",
      "(3890, 128)\n"
     ]
    }
   ],
   "source": [
    "from cogdl.models.emb.netsmf import NetSMF\n",
    "\n",
    "###################\n",
    "##### 作业填空 #####\n",
    "###################\n",
    "'''\n",
    "请用自己的语言解释以下超参的含义，并为它们选择合适的值填入下面的模型实例化中。\n",
    "1. window_size: 一样\n",
    "2. negative: 一样\n",
    "3. num_round: number of round\n",
    "'''\n",
    "netsmf = NetSMF(dimension=128, window_size=10, negative=1, num_round=100, worker=1)\n",
    "netsmf_emb = netsmf(graph)\n",
    "print(netsmf_emb.shape)"
   ]
  },
  {
   "cell_type": "markdown",
   "metadata": {
    "pycharm": {
     "name": "#%% md\n"
    }
   },
   "source": [
    "### 2.4 ProNE模型训练"
   ]
  },
  {
   "cell_type": "code",
   "execution_count": 5,
   "metadata": {
    "pycharm": {
     "name": "#%%\n"
    }
   },
   "outputs": [
    {
     "name": "stdout",
     "output_type": "stream",
     "text": [
      "(3890, 128)\n"
     ]
    }
   ],
   "source": [
    "from cogdl.models.emb.prone import ProNE\n",
    "\n",
    "###################\n",
    "##### 作业填空 #####\n",
    "###################\n",
    "'''\n",
    "请用自己的语言解释以下超参的含义，并为它们选择合适的值填入下面的模型实例化中。\n",
    "1. step: The number of items in the chebyshev expansion.\n",
    "2. mu: Parameter\n",
    "3. theta: Parameter\n",
    "'''\n",
    "prone = ProNE(dimension=128, step=5, mu=0.2, theta=.5)\n",
    "prone_emb = prone(graph)\n",
    "print(prone_emb.shape)"
   ]
  },
  {
   "cell_type": "markdown",
   "metadata": {
    "id": "pE2hJ4rx-KAc",
    "pycharm": {
     "name": "#%% md\n"
    }
   },
   "source": [
    "## 3. 训练下游多标签线性分类器得到预测结果\n",
    "\n",
    "由于PPI数据集是一个多标签（multi-label）的数据集，所以我们需要对每一维标签分别进行预测，然后使用Micro-F1指标作为最后的评估指标。"
   ]
  },
  {
   "cell_type": "code",
   "execution_count": 6,
   "metadata": {
    "pycharm": {
     "name": "#%%\n"
    }
   },
   "outputs": [],
   "source": [
    "import numpy as np\n",
    "import scipy.sparse as sp\n",
    "from collections import defaultdict\n",
    "\n",
    "from sklearn.utils import shuffle as skshuffle\n",
    "from sklearn.linear_model import LogisticRegression\n",
    "from sklearn.multiclass import OneVsRestClassifier\n",
    "from sklearn.metrics import f1_score\n",
    "\n",
    "\n",
    "class TopKRanker(OneVsRestClassifier):\n",
    "    def predict(self, X, top_k_list):\n",
    "        assert X.shape[0] == len(top_k_list)\n",
    "        probs = np.asarray(super(TopKRanker, self).predict_proba(X))\n",
    "        all_labels = sp.lil_matrix(probs.shape)\n",
    "\n",
    "        for i, k in enumerate(top_k_list):\n",
    "            probs_ = probs[i, :]\n",
    "            labels = self.classes_[probs_.argsort()[-k:]].tolist()\n",
    "            for label in labels:\n",
    "                all_labels[i, label] = 1\n",
    "        return all_labels\n",
    "\n",
    "def evaluate(features_matrix, label_matrix, num_shuffle=3, training_percents=[0.1, 0.3, 0.5, 0.7, 0.9]):\n",
    "    if len(label_matrix.shape) > 1:\n",
    "        labeled_nodes = np.nonzero(np.sum(label_matrix, axis=1) > 0)[0]\n",
    "        features_matrix = features_matrix[labeled_nodes]\n",
    "        label_matrix = label_matrix[labeled_nodes]\n",
    "\n",
    "    # shuffle, to create train/test groups\n",
    "    shuffles = []\n",
    "    for _ in range(num_shuffle):\n",
    "        shuffles.append(skshuffle(features_matrix, label_matrix))\n",
    "\n",
    "    # score each train/test group\n",
    "    all_results = defaultdict(list)\n",
    "\n",
    "    for train_percent in training_percents:\n",
    "        for shuf in shuffles:\n",
    "            X, y = shuf\n",
    "\n",
    "            training_size = int(train_percent * len(features_matrix))\n",
    "            X_train = X[:training_size, :]\n",
    "            y_train = y[:training_size, :]\n",
    "\n",
    "            X_test = X[training_size:, :]\n",
    "            y_test = y[training_size:, :]\n",
    "\n",
    "            clf = TopKRanker(LogisticRegression(solver=\"liblinear\"))\n",
    "            clf.fit(X_train, y_train)\n",
    "\n",
    "            # find out how many labels should be predicted\n",
    "            top_k_list = y_test.sum(axis=1).astype(np.int).tolist()\n",
    "            preds = clf.predict(X_test, top_k_list)\n",
    "            result = f1_score(y_test, preds, average=\"micro\")\n",
    "            all_results[train_percent].append(result)\n",
    "\n",
    "    return dict(\n",
    "        (f\"Micro-F1 {train_percent}\", np.mean(all_results[train_percent]))\n",
    "        for train_percent in sorted(all_results.keys())\n",
    "    )\n"
   ]
  },
  {
   "cell_type": "markdown",
   "metadata": {
    "pycharm": {
     "name": "#%% md\n"
    }
   },
   "source": [
    "我们设置5种不同的数据划分方式进行评估，其中训练集的比例分别为0.1~0.9。"
   ]
  },
  {
   "cell_type": "code",
   "execution_count": 7,
   "metadata": {
    "pycharm": {
     "name": "#%%\n"
    }
   },
   "outputs": [
    {
     "name": "stderr",
     "output_type": "stream",
     "text": [
      "/Users/yukuo/anaconda3/envs/py3.6/lib/python3.6/site-packages/sklearn/multiclass.py:77: UserWarning: Label not 11 is present in all training examples.\n",
      "  str(classes[c]))\n"
     ]
    }
   ],
   "source": [
    "training_percents = [0.1, 0.3, 0.5, 0.7, 0.9]\n",
    "\n",
    "deepwalk_ret = evaluate(deepwalk_emb, labels, training_percents=training_percents)\n",
    "netmf_ret = evaluate(netmf_emb, labels, training_percents=training_percents)\n",
    "netsmf_ret = evaluate(netsmf_emb, labels, training_percents=training_percents)\n",
    "prone_ret = evaluate(prone_emb, labels, training_percents=training_percents)\n"
   ]
  },
  {
   "cell_type": "markdown",
   "metadata": {
    "pycharm": {
     "name": "#%% md\n"
    }
   },
   "source": [
    "## 4. 评估结果可视化\n",
    "\n",
    "我们通过matplotlib.pyplot将不同算法的结果进行可视化对比。"
   ]
  },
  {
   "cell_type": "code",
   "execution_count": 8,
   "metadata": {
    "pycharm": {
     "name": "#%%\n"
    }
   },
   "outputs": [
    {
     "data": {
      "image/png": "[encoded data removed]",
      "text/plain": [
       "<Figure size 432x288 with 1 Axes>"
      ]
     },
     "metadata": {
      "needs_background": "light"
     },
     "output_type": "display_data"
    }
   ],
   "source": [
    "import matplotlib.pyplot as plt\n",
    "\n",
    "x = training_percents\n",
    "deepwalk_y = [deepwalk_ret[f\"Micro-F1 {s}\"] for s in x]\n",
    "netmf_y = [netmf_ret[f\"Micro-F1 {s}\"] for s in x]\n",
    "netsmf_y = [netsmf_ret[f\"Micro-F1 {s}\"] for s in x]\n",
    "prone_y = [prone_ret[f\"Micro-F1 {s}\"] for s in x]\n",
    "\n",
    "plt.plot(x,deepwalk_y,'h-',color = '#19CAAD',label=\"DeepWalk\",ms=6,lw = 1.8)#s-:方形\n",
    "plt.plot(x,netmf_y,'o-',color = '#265e83',label=\"NetMF\",ms=6,lw = 1.8)#o-:圆形\n",
    "plt.plot(x,netsmf_y,'d-',color = '#FF6347',label=\"NetSMF\",ms=6,lw = 1.8)#o-:圆形\n",
    "plt.plot(x,prone_y,'^-',color = '#F4A460',label=\"ProNE\",ms=6,lw = 1.8)#o-:圆形\n",
    "plt.xlabel(\"Training Ratio\",fontsize=18)#横坐标名字\n",
    "plt.ylabel(\"Micro-F1\",fontsize=18)#纵坐标名字\n",
    "plt.legend(loc = \"lower right\",fontsize=15)#图例\n",
    "plt.tick_params(labelsize=13)\n",
    "\n",
    "plt.grid()\n",
    "plt.show()"
   ]
  },
  {
   "cell_type": "markdown",
   "metadata": {
    "pycharm": {
     "name": "#%% md\n"
    }
   },
   "source": [
    "## 5. 实验结果分析\n",
    "\n",
    "请对实验结果进行分析：结果是否符合你的预期？超参的选择对于最终结果是否有影响？\n",
    "（可以直接将结果分析写在这里。）"
   ]
  }
 ],
 "metadata": {
  "colab": {
   "collapsed_sections": [],
   "name": "hw1.ipynb",
   "provenance": []
  },
  "kernelspec": {
   "display_name": "Python 3.6.15 ('py3.6')",
   "language": "python",
   "name": "python3"
  },
  "language_info": {
   "codemirror_mode": {
    "name": "ipython",
    "version": 3
   },
   "file_extension": ".py",
   "mimetype": "text/x-python",
   "name": "python",
   "nbconvert_exporter": "python",
   "pygments_lexer": "ipython3",
   "version": "3.6.15"
  },
  "orig_nbformat": 4,
  "vscode": {
   "interpreter": {
    "hash": "7703d8cc28a94efd96474faf641471b2ac55415e3c97cc8df6cd7b51cf78a952"
   }
  }
 },
 "nbformat": 4,
 "nbformat_minor": 0
}